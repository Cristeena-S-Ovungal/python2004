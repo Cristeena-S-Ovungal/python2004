{
  "nbformat": 4,
  "nbformat_minor": 0,
  "metadata": {
    "colab": {
      "provenance": [],
      "authorship_tag": "ABX9TyO8OQm9FYDasF1V+WRaXM3p",
      "include_colab_link": true
    },
    "kernelspec": {
      "name": "python3",
      "display_name": "Python 3"
    },
    "language_info": {
      "name": "python"
    }
  },
  "cells": [
    {
      "cell_type": "markdown",
      "metadata": {
        "id": "view-in-github",
        "colab_type": "text"
      },
      "source": [
        "<a href=\"https://colab.research.google.com/github/Cristeena-S-Ovungal/python2004/blob/main/python_odd_and_even.ipynb\" target=\"_parent\"><img src=\"https://colab.research.google.com/assets/colab-badge.svg\" alt=\"Open In Colab\"/></a>"
      ]
    },
    {
      "cell_type": "code",
      "execution_count": 12,
      "metadata": {
        "colab": {
          "base_uri": "https://localhost:8080/"
        },
        "id": "2HplpniLahn_",
        "outputId": "c9031bef-9719-45c0-855e-b70d80dad0b2"
      },
      "outputs": [
        {
          "output_type": "stream",
          "name": "stdout",
          "text": [
            "2\n",
            "6\n",
            "12\n",
            "20\n",
            "30\n",
            "42\n",
            "56\n",
            "72\n",
            "90\n",
            "110\n",
            "132\n",
            "156\n",
            "182\n",
            "210\n",
            "240\n",
            "272\n",
            "306\n",
            "342\n",
            "380\n",
            "420\n",
            "462\n",
            "506\n",
            "552\n",
            "600\n",
            "650\n",
            "702\n",
            "756\n",
            "812\n",
            "870\n",
            "930\n",
            "992\n",
            "1056\n",
            "1122\n",
            "1190\n",
            "1260\n",
            "1332\n",
            "1406\n",
            "1482\n",
            "1560\n",
            "1640\n",
            "1722\n",
            "1806\n",
            "1892\n",
            "1980\n",
            "2070\n",
            "2162\n",
            "2256\n",
            "2352\n",
            "2450\n"
          ]
        }
      ],
      "source": [
        "x=0\n",
        "y=0\n",
        "for x in range(1,100):\n",
        "  if x%2==0:\n",
        "    y=y+x\n",
        "    print(y)"
      ]
    },
    {
      "cell_type": "code",
      "source": [
        "x=[18,12,23,67,34,65,78,34,56,65]\n",
        "for y in x:\n",
        "  print(y)"
      ],
      "metadata": {
        "colab": {
          "base_uri": "https://localhost:8080/"
        },
        "id": "ONPiK6Khbrrd",
        "outputId": "773f6c87-9611-4a11-fe9b-e0a3d5673ce2"
      },
      "execution_count": 13,
      "outputs": [
        {
          "output_type": "stream",
          "name": "stdout",
          "text": [
            "18\n",
            "12\n",
            "23\n",
            "67\n",
            "34\n",
            "65\n",
            "78\n",
            "34\n",
            "56\n",
            "65\n"
          ]
        }
      ]
    },
    {
      "cell_type": "code",
      "source": [
        "\n",
        "x=[18,12,23,67,34,65,78,34,56,65]\n",
        "y=0\n",
        "for y in x:\n",
        "  if y%2==0:\n",
        "    print(y)"
      ],
      "metadata": {
        "colab": {
          "base_uri": "https://localhost:8080/"
        },
        "id": "YsF4Po_megKc",
        "outputId": "a1d0b054-4a0c-41ad-959e-51f3c48338ca"
      },
      "execution_count": 23,
      "outputs": [
        {
          "output_type": "stream",
          "name": "stdout",
          "text": [
            "18\n",
            "12\n",
            "34\n",
            "78\n",
            "34\n",
            "56\n"
          ]
        }
      ]
    },
    {
      "cell_type": "code",
      "source": [
        "x=[18,12,23,67,78,34,56,65]\n",
        "y=0\n",
        "for y in x:\n",
        "  if y%2==1:\n",
        "   print(y)"
      ],
      "metadata": {
        "colab": {
          "base_uri": "https://localhost:8080/"
        },
        "id": "8Q1R5N8Ve3ck",
        "outputId": "5e222fb0-94b3-4c70-b10e-f85fb535efe0"
      },
      "execution_count": 25,
      "outputs": [
        {
          "output_type": "stream",
          "name": "stdout",
          "text": [
            "23\n",
            "67\n",
            "65\n"
          ]
        }
      ]
    },
    {
      "cell_type": "code",
      "source": [
        "x.append"
      ],
      "metadata": {
        "id": "uUlWpY1NgehM"
      },
      "execution_count": null,
      "outputs": []
    }
  ]
}